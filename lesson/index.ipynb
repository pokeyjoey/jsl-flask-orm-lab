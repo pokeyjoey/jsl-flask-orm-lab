{
 "cells": [
  {
   "cell_type": "markdown",
   "id": "572c8604-e72b-4b55-af87-6b3a9826bcb0",
   "metadata": {},
   "source": [
    "# Flask ORM"
   ]
  },
  {
   "cell_type": "markdown",
   "id": "b80cbe26-f9ae-46b5-9fb8-8a9060dede01",
   "metadata": {},
   "source": [
    "### Introduction"
   ]
  },
  {
   "cell_type": "markdown",
   "id": "35cea2d1-fa4c-4a38-bc06-ef6b47b26a22",
   "metadata": {},
   "source": [
    "### Seeing the films database"
   ]
  },
  {
   "cell_type": "code",
   "execution_count": 3,
   "id": "cd82c706-6f77-4845-af07-a6391474ebac",
   "metadata": {},
   "outputs": [],
   "source": [
    "import pandas as pd\n",
    "\n",
    "df = pd.read_csv('actors.csv')"
   ]
  },
  {
   "cell_type": "code",
   "execution_count": 4,
   "id": "cabf060e-02c8-406a-8d8e-6bd83cbe1447",
   "metadata": {},
   "outputs": [],
   "source": [
    "df.to_csv('./actors.csv')"
   ]
  },
  {
   "cell_type": "code",
   "execution_count": 5,
   "id": "afc14611-8fc1-46ae-8841-996e5db9afab",
   "metadata": {},
   "outputs": [],
   "source": [
    "import sqlite3\n",
    "\n",
    "conn = sqlite3.connect('films.db')\n",
    "\n",
    "cursor = conn.cursor()"
   ]
  },
  {
   "cell_type": "code",
   "execution_count": 10,
   "id": "0d56590e-16bc-4bd0-85b6-496bbc00942d",
   "metadata": {},
   "outputs": [
    {
     "data": {
      "text/plain": [
       "<sqlite3.Cursor at 0x1684aaab0>"
      ]
     },
     "execution_count": 10,
     "metadata": {},
     "output_type": "execute_result"
    }
   ],
   "source": [
    "cursor.execute(\"\"\"SELECT \n",
    "    name\n",
    "FROM \n",
    "    sqlite_schema\n",
    "WHERE \n",
    "    type ='table' AND \n",
    "    name NOT LIKE 'sqlite_%';\"\"\")"
   ]
  },
  {
   "cell_type": "code",
   "execution_count": 11,
   "id": "e280ddc5-7ade-4891-ac36-c3b63d0f6991",
   "metadata": {},
   "outputs": [
    {
     "data": {
      "text/plain": [
       "[('actors',),\n",
       " ('directors',),\n",
       " ('writers',),\n",
       " ('movies',),\n",
       " ('movie_actors',),\n",
       " ('movie_directors',),\n",
       " ('movie_writers',)]"
      ]
     },
     "execution_count": 11,
     "metadata": {},
     "output_type": "execute_result"
    }
   ],
   "source": [
    "cursor.fetchall()"
   ]
  },
  {
   "cell_type": "code",
   "execution_count": 21,
   "id": "84ca8684-2c29-4f7d-939d-3a45c6ec768a",
   "metadata": {},
   "outputs": [],
   "source": [
    "movies_df = pd.read_sql(\"SELECT * FROM movies\", conn)"
   ]
  },
  {
   "cell_type": "code",
   "execution_count": 23,
   "id": "5dc60eae-8ed0-4f09-9224-8990c12587a2",
   "metadata": {},
   "outputs": [],
   "source": [
    "movies_df.to_csv('movies.csv', index = False)"
   ]
  },
  {
   "cell_type": "code",
   "execution_count": 24,
   "id": "1ee617b8-2cf1-4998-8009-40acefd75faf",
   "metadata": {},
   "outputs": [],
   "source": [
    "movies = pd.read_csv('movies.csv')"
   ]
  },
  {
   "cell_type": "code",
   "execution_count": 26,
   "id": "0aac1dc0-2d0f-4c7d-b2a9-5b306dd2f548",
   "metadata": {},
   "outputs": [
    {
     "data": {
      "text/plain": [
       "Index(['id', 'title', 'studio', 'runtime', 'description', 'release_date',\n",
       "       'year'],\n",
       "      dtype='object')"
      ]
     },
     "execution_count": 26,
     "metadata": {},
     "output_type": "execute_result"
    }
   ],
   "source": [
    "movies.columns"
   ]
  },
  {
   "cell_type": "code",
   "execution_count": 29,
   "id": "ac847f50-a27b-4be9-9f12-dbbbbf8dc5e5",
   "metadata": {},
   "outputs": [
    {
     "name": "stdout",
     "output_type": "stream",
     "text": [
      "CREATE TABLE \"movies\" (\n",
      "\"index\" INTEGER,\n",
      "  \"id\" INTEGER,\n",
      "  \"title\" TEXT,\n",
      "  \"studio\" TEXT,\n",
      "  \"runtime\" REAL,\n",
      "  \"description\" TEXT,\n",
      "  \"release_date\" TEXT,\n",
      "  \"year\" INTEGER\n",
      ")\n"
     ]
    }
   ],
   "source": [
    "print(pd.io.sql.get_schema(movies.reset_index(), 'movies'))"
   ]
  },
  {
   "cell_type": "code",
   "execution_count": 31,
   "id": "e20367f9-e2d8-498d-abc5-49e08770ec18",
   "metadata": {},
   "outputs": [
    {
     "name": "stdout",
     "output_type": "stream",
     "text": [
      "CREATE TABLE \"actors\" (\n",
      "\"index\" INTEGER,\n",
      "  \"id\" INTEGER,\n",
      "  \"name\" TEXT\n",
      ")\n"
     ]
    }
   ],
   "source": [
    "print(pd.io.sql.get_schema(actors_df.reset_index(), 'actors'))"
   ]
  },
  {
   "cell_type": "code",
   "execution_count": 33,
   "id": "c2dd7b24-715a-423f-b97e-54a548326a50",
   "metadata": {},
   "outputs": [
    {
     "data": {
      "text/html": [
       "<div>\n",
       "<style scoped>\n",
       "    .dataframe tbody tr th:only-of-type {\n",
       "        vertical-align: middle;\n",
       "    }\n",
       "\n",
       "    .dataframe tbody tr th {\n",
       "        vertical-align: top;\n",
       "    }\n",
       "\n",
       "    .dataframe thead th {\n",
       "        text-align: right;\n",
       "    }\n",
       "</style>\n",
       "<table border=\"1\" class=\"dataframe\">\n",
       "  <thead>\n",
       "    <tr style=\"text-align: right;\">\n",
       "      <th></th>\n",
       "      <th>movie_id</th>\n",
       "      <th>actor_id</th>\n",
       "    </tr>\n",
       "  </thead>\n",
       "  <tbody>\n",
       "    <tr>\n",
       "      <th>0</th>\n",
       "      <td>1</td>\n",
       "      <td>1</td>\n",
       "    </tr>\n",
       "    <tr>\n",
       "      <th>1</th>\n",
       "      <td>1</td>\n",
       "      <td>1339</td>\n",
       "    </tr>\n",
       "  </tbody>\n",
       "</table>\n",
       "</div>"
      ],
      "text/plain": [
       "   movie_id  actor_id\n",
       "0         1         1\n",
       "1         1      1339"
      ]
     },
     "execution_count": 33,
     "metadata": {},
     "output_type": "execute_result"
    }
   ],
   "source": [
    "movie_actors_df = pd.read_csv('./movie_actors.csv')\n",
    "movie_actors_df[:2]"
   ]
  },
  {
   "cell_type": "code",
   "execution_count": 34,
   "id": "a72c35b4-55f9-4804-bba7-e547fcd8315e",
   "metadata": {},
   "outputs": [
    {
     "name": "stdout",
     "output_type": "stream",
     "text": [
      "CREATE TABLE \"movie_actors\" (\n",
      "\"index\" INTEGER,\n",
      "  \"movie_id\" INTEGER,\n",
      "  \"actor_id\" INTEGER\n",
      ")\n"
     ]
    }
   ],
   "source": [
    "print(pd.io.sql.get_schema(movie_actors_df.reset_index(), 'movie_actors'))"
   ]
  },
  {
   "cell_type": "code",
   "execution_count": 35,
   "id": "c02dd189-2bb1-4a70-b852-74018435507e",
   "metadata": {},
   "outputs": [
    {
     "data": {
      "text/html": [
       "<div>\n",
       "<style scoped>\n",
       "    .dataframe tbody tr th:only-of-type {\n",
       "        vertical-align: middle;\n",
       "    }\n",
       "\n",
       "    .dataframe tbody tr th {\n",
       "        vertical-align: top;\n",
       "    }\n",
       "\n",
       "    .dataframe thead th {\n",
       "        text-align: right;\n",
       "    }\n",
       "</style>\n",
       "<table border=\"1\" class=\"dataframe\">\n",
       "  <thead>\n",
       "    <tr style=\"text-align: right;\">\n",
       "      <th></th>\n",
       "      <th>movie_id</th>\n",
       "      <th>director_id</th>\n",
       "    </tr>\n",
       "  </thead>\n",
       "  <tbody>\n",
       "    <tr>\n",
       "      <th>0</th>\n",
       "      <td>1</td>\n",
       "      <td>1</td>\n",
       "    </tr>\n",
       "    <tr>\n",
       "      <th>1</th>\n",
       "      <td>1</td>\n",
       "      <td>7166</td>\n",
       "    </tr>\n",
       "  </tbody>\n",
       "</table>\n",
       "</div>"
      ],
      "text/plain": [
       "   movie_id  director_id\n",
       "0         1            1\n",
       "1         1         7166"
      ]
     },
     "execution_count": 35,
     "metadata": {},
     "output_type": "execute_result"
    }
   ],
   "source": [
    "movie_directors_df = pd.read_csv('./movie_directors.csv')\n",
    "movie_directors_df[:2]"
   ]
  },
  {
   "cell_type": "code",
   "execution_count": 36,
   "id": "fda466d0-d8af-4276-b3e7-7e580fc0e0bc",
   "metadata": {},
   "outputs": [
    {
     "name": "stdout",
     "output_type": "stream",
     "text": [
      "CREATE TABLE \"movie_directors\" (\n",
      "\"index\" INTEGER,\n",
      "  \"movie_id\" INTEGER,\n",
      "  \"director_id\" INTEGER\n",
      ")\n"
     ]
    }
   ],
   "source": [
    "print(pd.io.sql.get_schema(movie_directors_df.reset_index(), 'movie_directors'))"
   ]
  },
  {
   "cell_type": "code",
   "execution_count": 37,
   "id": "7cca2265-52c8-4045-9999-ee99b9085f2b",
   "metadata": {},
   "outputs": [],
   "source": [
    "directors_df = pd.read_csv('./directors.csv')"
   ]
  },
  {
   "cell_type": "code",
   "execution_count": 38,
   "id": "f2ea1f75-8528-467d-9672-94d42eed4cfd",
   "metadata": {},
   "outputs": [
    {
     "name": "stdout",
     "output_type": "stream",
     "text": [
      "CREATE TABLE \"directors\" (\n",
      "\"index\" INTEGER,\n",
      "  \"name\" TEXT\n",
      ")\n"
     ]
    }
   ],
   "source": [
    "print(pd.io.sql.get_schema(directors_df.reset_index(), 'directors'))"
   ]
  },
  {
   "cell_type": "code",
   "execution_count": 40,
   "id": "53ec5e1d-fee6-478e-957b-725924575cb5",
   "metadata": {},
   "outputs": [],
   "source": [
    "directors_df = pd.read_sql(\"SELECT * FROM directors\", conn)"
   ]
  },
  {
   "cell_type": "code",
   "execution_count": 43,
   "id": "9d3ab03b-f3ed-447a-b609-fccdee468396",
   "metadata": {},
   "outputs": [],
   "source": [
    "directors_df.to_csv('./directors.csv', index = False)"
   ]
  },
  {
   "cell_type": "code",
   "execution_count": 45,
   "id": "586ed5e4-8f83-497d-a1ac-a0b8e914313a",
   "metadata": {},
   "outputs": [],
   "source": [
    "directors_df = pd.read_csv('./directors.csv')"
   ]
  },
  {
   "cell_type": "code",
   "execution_count": 46,
   "id": "51c033d1-1fb7-4bcc-9420-18fa6999d96a",
   "metadata": {},
   "outputs": [
    {
     "name": "stdout",
     "output_type": "stream",
     "text": [
      "CREATE TABLE \"directors\" (\n",
      "\"index\" INTEGER,\n",
      "  \"id\" INTEGER,\n",
      "  \"name\" TEXT\n",
      ")\n"
     ]
    }
   ],
   "source": [
    "print(pd.io.sql.get_schema(directors_df.reset_index(), 'directors'))"
   ]
  },
  {
   "cell_type": "code",
   "execution_count": null,
   "id": "e0370919-4a38-40e5-8a46-6a844205db82",
   "metadata": {},
   "outputs": [],
   "source": []
  }
 ],
 "metadata": {
  "kernelspec": {
   "display_name": "Python 3 (ipykernel)",
   "language": "python",
   "name": "python3"
  },
  "language_info": {
   "codemirror_mode": {
    "name": "ipython",
    "version": 3
   },
   "file_extension": ".py",
   "mimetype": "text/x-python",
   "name": "python",
   "nbconvert_exporter": "python",
   "pygments_lexer": "ipython3",
   "version": "3.9.7"
  }
 },
 "nbformat": 4,
 "nbformat_minor": 5
}
