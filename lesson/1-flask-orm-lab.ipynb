{
 "cells": [
  {
   "cell_type": "markdown",
   "id": "22397182-d4b7-4e39-9ffb-d6059e2fb18d",
   "metadata": {},
   "source": [
    "# Flask ORM Lab"
   ]
  },
  {
   "cell_type": "markdown",
   "id": "b00df127-e42e-49dd-8250-87390942b840",
   "metadata": {},
   "source": [
    "### Introduction"
   ]
  },
  {
   "cell_type": "markdown",
   "id": "10758cf5-7c3d-4cf4-905a-fd71bf5809d2",
   "metadata": {},
   "source": [
    "In this lesson, we'll work on using our ORM library to help build a Flask application.  We'll do so using our IMDB dataset.  Let's get started."
   ]
  },
  {
   "cell_type": "markdown",
   "id": "56c3f981-85c5-44c7-8a48-793c617bb2c7",
   "metadata": {},
   "source": [
    "### Setting up the Database"
   ]
  },
  {
   "cell_type": "markdown",
   "id": "a8f8a949-069a-4b2b-b1e0-2b3a245f1f30",
   "metadata": {},
   "source": [
    "Let's begin by connecting to postgres, and creating a new database called `imdb_development`.  Then we would like to run the `migrations/create_tables.sql` against the database.\n",
    "\n",
    "> Remember that we can do this from the terminal with the `-f` flag."
   ]
  },
  {
   "cell_type": "markdown",
   "id": "5fea61f7-cdd9-4a42-9c24-954bca057198",
   "metadata": {},
   "source": [
    "Then confirm that the corresponding tables have been created."
   ]
  },
  {
   "cell_type": "markdown",
   "id": "ba47d9cf-907e-4803-8beb-cb2c7218da41",
   "metadata": {},
   "source": [
    "<img src=\"./imdb-devt.png\" width=\"50%\">"
   ]
  },
  {
   "cell_type": "markdown",
   "id": "42bdfb62-a98e-4a77-8457-871346dc246a",
   "metadata": {},
   "source": [
    "Ok, now it's time to load in our data."
   ]
  },
  {
   "cell_type": "markdown",
   "id": "d49f0117-ffe8-4643-8899-5fe748515520",
   "metadata": {},
   "source": [
    "We can do by first moving into the `backend/data` directory and then by logging into postgres, connecting to our `imdb_development` database and running the following commands."
   ]
  },
  {
   "cell_type": "markdown",
   "id": "9dfb750c-56a8-4265-83bf-bd18fa6356a2",
   "metadata": {},
   "source": [
    "> `\\copy actors (id, name) FROM 'actors.csv' DELIMITER ',' CSV HEADER;`"
   ]
  },
  {
   "cell_type": "markdown",
   "id": "1e277549-c283-4867-a753-73cde4362a4e",
   "metadata": {},
   "source": [
    "> `\\copy directors (id, name) FROM 'directors.csv' DELIMITER ',' CSV HEADER;`"
   ]
  },
  {
   "cell_type": "markdown",
   "id": "419d425a-e871-4326-bc5b-5afbbbaa6875",
   "metadata": {},
   "source": [
    "> `\\copy movie_actors (movie_id, actor_id) FROM 'movie_actors.csv' DELIMITER ',' CSV HEADER;`"
   ]
  },
  {
   "cell_type": "markdown",
   "id": "871d2017-a0f7-4103-9354-8e657ef1fe64",
   "metadata": {},
   "source": [
    "> `\\copy movie_directors (movie_id, director_id) FROM 'movie_directors.csv' DELIMITER ',' CSV HEADER;`"
   ]
  },
  {
   "cell_type": "markdown",
   "id": "4f965359-d5c9-4616-882b-805a69d1cea5",
   "metadata": {},
   "source": [
    "> `\\copy movies (id, title, studio, runtime, description, release_date, year) FROM 'movies.csv' DELIMITER ',' CSV HEADER;`"
   ]
  },
  {
   "cell_type": "markdown",
   "id": "07d68c7e-fbfe-43be-a823-aacb79c99cbd",
   "metadata": {},
   "source": [
    "Next it's good to become familiar with our various tables.  \n",
    "\n",
    "> Take some time to describe the relationships between actors, movies, and directors."
   ]
  },
  {
   "cell_type": "markdown",
   "id": "e54b7cf5-becf-4d15-9a3b-96f03525dd58",
   "metadata": {},
   "source": [
    "* Write down the relationships here"
   ]
  },
  {
   "cell_type": "markdown",
   "id": "9accf006-16aa-4808-949f-350d8b40266f",
   "metadata": {},
   "source": [
    "### Setting up the test database"
   ]
  },
  {
   "cell_type": "markdown",
   "id": "e090b17d-3288-4beb-ab82-8b0c8b92c917",
   "metadata": {},
   "source": [
    "Now the development database will be used to access data from our `console.py` file, and to pull data from our database when we ultimately develop and boot up our Flask application.\n",
    "\n",
    "But for testing purposes, we want to start off with a clean database where we establish the state of the database each time.  This way when we call a function that relies on the database, we know exactly what the return value should be, and can test for it.  \n",
    "\n",
    "1. So let's create a database called `imdb_test`\n",
    "2. Then run the `migrations/create_tables.sql` file against the test database to create the related tables.\n",
    "3. Then confirm that the database has the proper tables."
   ]
  },
  {
   "cell_type": "markdown",
   "id": "65260908-0ab0-457f-b780-68aff1ed1f31",
   "metadata": {},
   "source": [
    "<img src=\"./imdb-test-db.png\" width=\"50%\">"
   ]
  },
  {
   "cell_type": "markdown",
   "id": "ad1106e3-dcd6-4f40-83df-68f606c3a4e7",
   "metadata": {},
   "source": [
    "4. Next let's create our connections to our databases.\n",
    "\n",
    "The connections for the both the test and development databases are established in the `lib/db.py` file.  Create the `.env` file and `settings.py` file so that the connection and cursor objects properly connect to the databases."
   ]
  },
  {
   "cell_type": "markdown",
   "id": "cece15ec-aa83-4894-8d7d-18ca12d4a9e0",
   "metadata": {},
   "source": [
    "### Building our Models"
   ]
  },
  {
   "cell_type": "markdown",
   "id": "0a3d55d7-0e58-4289-adac-6419718be730",
   "metadata": {},
   "source": [
    "Now it's time to build the `Movie`, `Actor`, and `MovieActor` models."
   ]
  },
  {
   "cell_type": "markdown",
   "id": "186e6b83-7315-4f32-b50a-5d87f9bace6f",
   "metadata": {},
   "source": [
    "1. Essentials"
   ]
  },
  {
   "cell_type": "markdown",
   "id": "d547d8ac-06b6-4e76-ad49-bd9f2e2ec944",
   "metadata": {},
   "source": [
    "* Movie\n",
    "\n",
    "    * Begin by setting up mass assignment when creating a new movie instance.\n",
    "    * Then make sure to set up the Movie model, as well as the database to be able to save a movie.\n",
    "    > Run the `pytest tests/models/test_movie.py` to make sure that the test passes."
   ]
  },
  {
   "cell_type": "markdown",
   "id": "48a9c447-f8c1-44c1-b47f-1328e9af2a9b",
   "metadata": {},
   "source": [
    "* Actor\n",
    "    * Begin by setting up mass assignment when creating a new actor instance.\n",
    "    * Then make sure to set up the Actor model, as well as the database to be able to save a movie.\n",
    "    > Run the `pytest tests/models/test_actor.py` to make sure that the corresponding test passes."
   ]
  },
  {
   "cell_type": "markdown",
   "id": "4b140dee-eb80-46fc-a130-03896f3b2282",
   "metadata": {},
   "source": [
    "* MovieActor\n",
    "\n",
    "    * The MovieActor class corresponds to the `movie_actors` table.  It should have columns of `movie_id` and `actor_id`."
   ]
  },
  {
   "cell_type": "markdown",
   "id": "cac5200a-9143-43f2-b2ad-40858be3793c",
   "metadata": {},
   "source": [
    "2. Relations"
   ]
  },
  {
   "cell_type": "markdown",
   "id": "17307786-32ae-4f66-a6d8-856e56a2490a",
   "metadata": {},
   "source": [
    "Once you have preformed the initial setup for both the Actor class and the Movie class, next is to set up the corresponding relations.\n",
    "\n",
    "* Add an `actor.movies()` instance method that returns a list of all of the associated movies.\n",
    "\n",
    "* Add an `movie.actors()` instance method that returns a list of all of the associated actors.\n",
    "\n",
    "> Ensure that the associated tests pass for each."
   ]
  },
  {
   "cell_type": "markdown",
   "id": "7b375726-b4ad-4724-8a49-9580c5220d06",
   "metadata": {},
   "source": [
    "### Setting up Flask"
   ]
  },
  {
   "cell_type": "markdown",
   "id": "5bcc0ec8-1bc4-4877-9b1a-b6899aef155a",
   "metadata": {},
   "source": [
    "Next let's set up our Flask application.  \n",
    "\n",
    "* Begin by writing the `create_app` function in the `api/__init__.py` file which takes arguments of `database`, `user`, and `password`.  The arguments passed into this function should be set on the app's config property.  \n",
    "\n",
    "> You can see the `create_app` function being used in the tests/test_api.py file, line 11.\n",
    "```python\n",
    "flask_app = create_app('imdb_test', 'postgres', 'postgres')\n",
    "```\n"
   ]
  },
  {
   "cell_type": "markdown",
   "id": "a699c376-535c-41ba-a7ef-52c81a7d8dc0",
   "metadata": {},
   "source": [
    "* Then create a `run.py` file, which calls the create_app function, and passes through the development configuration set up in the `settings.py` file.\n",
    "\n",
    "When we eventually call `python3 run.py`, and visit the `root` url `/`, we should see the following. "
   ]
  },
  {
   "cell_type": "markdown",
   "id": "01f7fa1e-97d3-4941-a113-4f097c50be8c",
   "metadata": {},
   "source": [
    "> <img src=\"./welcome-movies.png\" width=\"60%\">"
   ]
  },
  {
   "cell_type": "markdown",
   "id": "10d200f5-760b-40a6-bab1-f525b6907064",
   "metadata": {},
   "source": [
    "Then run the `tests/test_app.py` file and the first test should pass."
   ]
  },
  {
   "cell_type": "markdown",
   "id": "1d662443-0c07-43a8-a1c1-ef56e1b95ce9",
   "metadata": {},
   "source": [
    "* Then write a route for `/actors` which, to begin, returns the name and id of each actor."
   ]
  },
  {
   "cell_type": "markdown",
   "id": "89e20cd5-f2d3-464f-a884-0e1a89051e5c",
   "metadata": {},
   "source": [
    "<img src=\"./actors.png\" width=\"40%\">"
   ]
  },
  {
   "cell_type": "markdown",
   "id": "5c8c37d1-d075-4c68-b0d3-a0a698e4a904",
   "metadata": {},
   "source": [
    "And ensure that the corresponding test passes."
   ]
  },
  {
   "cell_type": "markdown",
   "id": "874f7040-531a-4d7e-9b74-4f32a8832f23",
   "metadata": {},
   "source": [
    "Then write the `/movies` route, which should return the json of all of the movies."
   ]
  },
  {
   "cell_type": "markdown",
   "id": "9a16136e-403d-4e16-ac6d-09697322f99c",
   "metadata": {},
   "source": [
    "<img src=\"./movies-route.png\" width=\"60%\">"
   ]
  },
  {
   "cell_type": "markdown",
   "id": "52f5ef13-5e23-40c4-bf38-cbc93359dcef",
   "metadata": {},
   "source": [
    "And confirm that the corresponding test passes in the `test_app.py` file."
   ]
  },
  {
   "cell_type": "markdown",
   "id": "57ea65ac-8680-453d-919a-6b17b25fda6b",
   "metadata": {},
   "source": [
    "Next, build the routes for\n",
    "\n",
    "* `/movies/id` and \n",
    "* `/actors/id` \n",
    "\n",
    "And confirm that each of the related tests pass. "
   ]
  },
  {
   "cell_type": "markdown",
   "id": "305cd779-671f-4590-b751-ffcabec9bd18",
   "metadata": {},
   "source": [
    "### Adding Relations in the Json"
   ]
  },
  {
   "cell_type": "markdown",
   "id": "448ae10e-27e2-4ad6-978e-9512e68618f8",
   "metadata": {},
   "source": [
    "Ok, so currently when we hit our api to say retrieve information about a movie, we see information about the movie.  But we would also like to see actors who are part of that movie.  \n",
    "\n",
    "So we would like to update our `/movies/id` action so that it also returns each of the actors in the movie.  We can do this in a couple of steps.  First write a method in the `Movie` class called `to_json` that not only returns a dictionary of the movie attributes, along with a key of `actors` that displays the list of actors.  \n",
    "\n",
    "> Confirm that the corresponding `to_json` test in `tests/models/test_movie.py` passes.\n",
    "\n",
    "Then write an `Actor#to_json` method that returns attributes of the actor along with a key of `movies` displaying information about each of the movies the actor was in.  \n",
    "\n",
    "> Confirm that the corresponding `to_json` test in `tests/models/test_actor.py` passes."
   ]
  },
  {
   "cell_type": "markdown",
   "id": "7d0a7c1b-b2fb-4137-b8cf-736966a275f3",
   "metadata": {},
   "source": [
    "After the `to_json` methods are working, then update the controller actions so that when we return data about an record, we also return the related records.  \n",
    "\n",
    "Confirm that the related tests in `tests/test_app.py` pass."
   ]
  }
 ],
 "metadata": {
  "kernelspec": {
   "display_name": "Python 3 (ipykernel)",
   "language": "python",
   "name": "python3"
  },
  "language_info": {
   "codemirror_mode": {
    "name": "ipython",
    "version": 3
   },
   "file_extension": ".py",
   "mimetype": "text/x-python",
   "name": "python",
   "nbconvert_exporter": "python",
   "pygments_lexer": "ipython3",
   "version": "3.9.7"
  }
 },
 "nbformat": 4,
 "nbformat_minor": 5
}
